{
 "cells": [
  {
   "cell_type": "code",
   "execution_count": 5,
   "id": "93732102-34c9-4758-9676-990e458be72a",
   "metadata": {},
   "outputs": [],
   "source": [
    "import os\n",
    "import argparse\n",
    "import logging\n",
    "import sys\n",
    "import torch\n",
    "import torchvision\n",
    "import torch.nn.functional as F\n",
    "\n",
    "from torchvision import transforms\n",
    "\n",
    "from torch.utils.tensorboard import SummaryWriter\n",
    "\n",
    "from torch.utils.data import DataLoader\n",
    "\n",
    "from utils import data\n",
    "import models, utils\n",
    "\n",
    "from utils.general import mkdir_if_not_exists, log_arguments, print_arguments\n",
    "\n",
    "# import train_util\n",
    "\n",
    "from train_and_data_generation.dataset import DenoiseDataset\n"
   ]
  },
  {
   "cell_type": "code",
   "execution_count": 36,
   "id": "91f13105-6ecc-4909-bb89-bb143569624b",
   "metadata": {},
   "outputs": [],
   "source": [
    "dataset_val = DenoiseDataset(os.path.join('/storage/MRI_Stanford_Dataset_wavelet/for_image_dnccn/', 'train.h5'))\n",
    "# dataset_val = DenoiseDataset(os.path.join('/storage/MRI_Stanford_2D_FSE/', 'train.h5'))\n",
    "# dataset_val = DenoiseDataset(os.path.join('/storage/MRI_Stanford_2D_FSE/', 'test.h5'))\n",
    "# dataset_val = DenoiseDataset(os.path.join('/home/shastri.19/Work_and_Course_Files/AMP_Work_Saurav/BF_CNN_Wavelet_Denoiser_and_GEC_PnP_DVDAMP/data/MRI_Images/', 'train.h5'))"
   ]
  },
  {
   "cell_type": "code",
   "execution_count": 37,
   "id": "01174619-0c03-4c55-974c-3d1f7fba5284",
   "metadata": {},
   "outputs": [
    {
     "data": {
      "text/plain": [
       "torch.Size([1, 48, 48])"
      ]
     },
     "execution_count": 37,
     "metadata": {},
     "output_type": "execute_result"
    }
   ],
   "source": [
    "dataset_val[0].shape"
   ]
  },
  {
   "cell_type": "code",
   "execution_count": 38,
   "id": "2e92af4d-3fea-4093-85db-a9598663cb92",
   "metadata": {},
   "outputs": [
    {
     "data": {
      "text/plain": [
       "56378"
      ]
     },
     "execution_count": 38,
     "metadata": {},
     "output_type": "execute_result"
    }
   ],
   "source": [
    "len(dataset_val)"
   ]
  },
  {
   "cell_type": "code",
   "execution_count": null,
   "id": "ae567ff5-985d-4710-93ff-4fd15a4d362b",
   "metadata": {},
   "outputs": [],
   "source": []
  }
 ],
 "metadata": {
  "kernelspec": {
   "display_name": "Python 3",
   "language": "python",
   "name": "python3"
  },
  "language_info": {
   "codemirror_mode": {
    "name": "ipython",
    "version": 3
   },
   "file_extension": ".py",
   "mimetype": "text/x-python",
   "name": "python",
   "nbconvert_exporter": "python",
   "pygments_lexer": "ipython3",
   "version": "3.8.5"
  }
 },
 "nbformat": 4,
 "nbformat_minor": 5
}
